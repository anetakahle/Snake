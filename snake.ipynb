{
 "cells": [
  {
   "cell_type": "markdown",
   "source": [
    "# IMPORTS, INITIALIZATION"
   ],
   "metadata": {
    "collapsed": false,
    "pycharm": {
     "name": "#%% md\n"
    }
   }
  },
  {
   "cell_type": "code",
   "execution_count": 1,
   "outputs": [],
   "source": [
    "import random\n",
    "import math\n",
    "import numpy as np\n",
    "from matplotlib import pyplot as plt\n",
    "# import pygame\n",
    "from time import sleep"
   ],
   "metadata": {
    "collapsed": false,
    "pycharm": {
     "name": "#%%\n"
    }
   }
  },
  {
   "cell_type": "code",
   "execution_count": 2,
   "outputs": [
    {
     "name": "stdout",
     "output_type": "stream",
     "text": [
      "env: QT_QPA_PLATFORM=wayland7\n"
     ]
    }
   ],
   "source": [
    "%env QT_QPA_PLATFORM=wayland7\n",
    "%matplotlib tk\n",
    "global renderMode\n",
    "global score\n",
    "global obs\n",
    "global extStep\n",
    "extStep = -2"
   ],
   "metadata": {
    "collapsed": false,
    "pycharm": {
     "name": "#%%\n"
    }
   }
  },
  {
   "cell_type": "code",
   "execution_count": 2,
   "outputs": [],
   "source": [],
   "metadata": {
    "collapsed": false,
    "pycharm": {
     "name": "#%%\n"
    }
   }
  },
  {
   "cell_type": "markdown",
   "source": [
    "# SETUP"
   ],
   "metadata": {
    "collapsed": false,
    "pycharm": {
     "name": "#%% md\n"
    }
   }
  },
  {
   "cell_type": "code",
   "execution_count": 3,
   "outputs": [],
   "source": [
    "size = 8\n",
    "renderMode = 1"
   ],
   "metadata": {
    "collapsed": false,
    "pycharm": {
     "name": "#%%\n"
    }
   }
  },
  {
   "cell_type": "code",
   "execution_count": 3,
   "outputs": [],
   "source": [],
   "metadata": {
    "collapsed": false,
    "pycharm": {
     "name": "#%%\n"
    }
   }
  },
  {
   "cell_type": "markdown",
   "source": [
    "# GAME LOGIC"
   ],
   "metadata": {
    "collapsed": false,
    "pycharm": {
     "name": "#%% md\n"
    }
   }
  },
  {
   "cell_type": "code",
   "execution_count": 4,
   "outputs": [],
   "source": [
    "env_state = 'open'\n",
    "apple_collected = False\n",
    "\n",
    "def reset_env():\n",
    "    global obs\n",
    "    obs = np.zeros((size, size), dtype=int)\n",
    "    middle = [math.floor((size+1)/2)-1, math.ceil((size+1)/2)-1]\n",
    "    y = random.randint(*middle)\n",
    "    x = random.randint(*middle)\n",
    "    obs[y][x] = 1 #head\n",
    "    obs[y+1][x] = 2 #body\n",
    "    return obs\n",
    "\n",
    "def generate_apple():\n",
    "    y = random.randint(0, size-1)\n",
    "    x = random.randint(0, size-1)\n",
    "    while obs[y, x] !=0:\n",
    "        y = random.randint(0, size-1)\n",
    "        x = random.randint(0, size-1)\n",
    "    obs[y, x] = -1\n",
    "\n",
    "\n",
    "def step(action):\n",
    "    global apple_collected\n",
    "    apple_collected = False\n",
    "    tail_value = 0\n",
    "    head = None\n",
    "    global obs\n",
    "    neck = None\n",
    "    body = None\n",
    "    tail = None\n",
    "    for y in range(size):\n",
    "        for x in range(size):\n",
    "            if obs[y][x] == 1:\n",
    "                head = [y, x]\n",
    "                obs[y][x] += 1\n",
    "            elif obs[y][x] == 2:\n",
    "                neck = [y, x]\n",
    "                obs[y][x] += 1\n",
    "            elif obs[y][x] > 2:\n",
    "                body = [y, x]\n",
    "                obs[y][x] += 1\n",
    "            if obs[y][x] > tail_value:\n",
    "                tail = [y, x]\n",
    "                tail_value = obs[y][x]\n",
    "    #if tail is None:\n",
    "\n",
    "    if_apple = obs[tail[0]][tail[1]]\n",
    "    obs[tail[0]][tail[1]] = 0\n",
    "\n",
    "    y = head[0]-neck[0]\n",
    "    x = head[1]-neck[1]\n",
    "    look_dir = [y, x]\n",
    "\n",
    "    look_dirs = [[0, -1], [-1, 0], [0, 1], [1, 0]]\n",
    "    look_dir_index = look_dirs.index(look_dir)\n",
    "    head_movement = None\n",
    "\n",
    "    if action == -1: #left\n",
    "        head_movement = look_dirs[look_dir_index-1]\n",
    "    elif action == 0: #straight\n",
    "        head_movement = look_dirs[look_dir_index]\n",
    "    elif action == 1: #right\n",
    "        if look_dir_index == 3:\n",
    "            head_movement = look_dirs[0]\n",
    "        else:\n",
    "            head_movement = look_dirs[look_dir_index+1]\n",
    "\n",
    "    new_head_y = head[0]+head_movement[0]\n",
    "    new_head_x = head[1]+head_movement[1]\n",
    "\n",
    "    if (new_head_x > size-1) or (new_head_y > size-1) or (new_head_x < 0) or (new_head_y < 0) or (obs[new_head_y][new_head_x] > 1):\n",
    "        global env_state\n",
    "        env_state = 'closed'\n",
    "\n",
    "    if env_state == 'open':\n",
    "        if obs[new_head_y][new_head_x] == -1:\n",
    "            apple_collected = True\n",
    "            obs[tail[0]][tail[1]] = if_apple\n",
    "        obs[new_head_y][new_head_x] = 1\n",
    "\n",
    "    post_step()\n",
    "\n",
    "def post_step():\n",
    "    global env_state\n",
    "    global score\n",
    "    global obs\n",
    "    if env_state == 'closed':\n",
    "        print(score)\n",
    "        score = 0\n",
    "        env_state = 'open'\n",
    "        obs = reset_env()\n",
    "        for i in range(1):\n",
    "            generate_apple()\n",
    "\n",
    "    if apple_collected is True:\n",
    "        generate_apple()\n",
    "        score += 1"
   ],
   "metadata": {
    "collapsed": false,
    "pycharm": {
     "name": "#%%\n"
    }
   }
  },
  {
   "cell_type": "code",
   "execution_count": 4,
   "outputs": [],
   "source": [],
   "metadata": {
    "collapsed": false,
    "pycharm": {
     "name": "#%%\n"
    }
   }
  },
  {
   "cell_type": "markdown",
   "source": [
    "# RENDERING"
   ],
   "metadata": {
    "collapsed": false,
    "pycharm": {
     "name": "#%% md\n"
    }
   }
  },
  {
   "cell_type": "code",
   "execution_count": 5,
   "outputs": [],
   "source": [
    "def init():\n",
    "    global score\n",
    "    global obs\n",
    "    score = 0\n",
    "    obs = reset_env()\n",
    "    generate_apple()"
   ],
   "metadata": {
    "collapsed": false,
    "pycharm": {
     "name": "#%%\n"
    }
   }
  },
  {
   "cell_type": "code",
   "execution_count": 6,
   "outputs": [],
   "source": [
    "if renderMode == 0:\n",
    "    init()\n",
    "\n",
    "    for i in range(125):\n",
    "        action = random.choice([-1, 0, 1])\n",
    "        step(action)\n",
    "        #\n",
    "        # if env_state == 'closed':\n",
    "        #     print(score)\n",
    "        #     score = 0\n",
    "        #     env_state = 'open'\n",
    "        #     obs = reset_env()\n",
    "        #     for i in range(1):\n",
    "        #         generate_apple()\n",
    "        #\n",
    "        # if apple_collected is True:\n",
    "        #     generate_apple()\n",
    "        #     score += 1\n",
    "\n",
    "        plt.ion()\n",
    "        plt.imshow(obs)\n",
    "        plt.pause(0.01)\n",
    "        sleep(0.1)"
   ],
   "metadata": {
    "collapsed": false,
    "pycharm": {
     "name": "#%%\n"
    }
   }
  },
  {
   "cell_type": "code",
   "execution_count": 7,
   "outputs": [],
   "source": [
    "# obs = reset_env()\n",
    "# generate_apple()\n",
    "\n",
    "# step(0)\n",
    "\n",
    "# plt.ion()\n",
    "# plt.imshow(obs)\n",
    "# #plt.pause(0.5)"
   ],
   "metadata": {
    "collapsed": false,
    "pycharm": {
     "name": "#%%\n"
    }
   }
  },
  {
   "cell_type": "code",
   "execution_count": 8,
   "outputs": [],
   "source": [
    "\n",
    "\n",
    "def hook():\n",
    "    global extStep\n",
    "    extStep = random.choice([-1, 0, 1])\n",
    "    return"
   ],
   "metadata": {
    "collapsed": false,
    "pycharm": {
     "name": "#%%\n"
    }
   }
  },
  {
   "cell_type": "code",
   "execution_count": 9,
   "outputs": [
    {
     "name": "stdout",
     "output_type": "stream",
     "text": [
      "pygame 2.1.2 (SDL 2.0.16, Python 3.10.4)\n",
      "Hello from the pygame community. https://www.pygame.org/contribute.html\n"
     ]
    },
    {
     "name": "stderr",
     "output_type": "stream",
     "text": [
      "<>:239: SyntaxWarning: \"is not\" with a literal. Did you mean \"!=\"?\n",
      "<>:239: SyntaxWarning: \"is not\" with a literal. Did you mean \"!=\"?\n",
      "/tmp/ipykernel_63059/1256880508.py:239: SyntaxWarning: \"is not\" with a literal. Did you mean \"!=\"?\n",
      "  if extStep is not -2:\n"
     ]
    }
   ],
   "source": [
    "import enum\n",
    "\n",
    "class logTypes(enum.Enum):\n",
    "    Info = 0\n",
    "    Ok = 1\n",
    "    Warn = 2\n",
    "    Error = 3\n",
    "\n",
    "class inputModes(enum.Enum):\n",
    "    PlayerNative = 0\n",
    "    PlayerTrans = 1\n",
    "    PreComputed = 2\n",
    "    Hook = 3\n",
    "    PlayerAuto = 4\n",
    "\n",
    "if renderMode == 1:\n",
    "    global obs, logList, maxVal\n",
    "    import pygame\n",
    "\n",
    "    pygame.init()\n",
    "\n",
    "    # input\n",
    "    im = inputModes.Hook\n",
    "\n",
    "    # config\n",
    "    s    = 80              # cell size in px\n",
    "    b    = 0               # border size in px\n",
    "    rl   = True            # render log or not\n",
    "    rg   = True            # render grid or not\n",
    "    rs   = True            # render score or not\n",
    "    fs   = 26              # font size\n",
    "    fps  = 60              # target frames per second\n",
    "    clrV = (0, 0, 0)       # void (background)\n",
    "    clrA = (255, 0, 0)     # apple\n",
    "    clrH = (0, 255, 0)     # head\n",
    "    clrB = (0, 255, 0)     # body\n",
    "    clrF = (255, 255, 255) # foreground\n",
    "    clrG = (40, 40, 40)    # grid\n",
    "    queS = 5               # seconds to poll moves when input mode is set to \"hook\"\n",
    "\n",
    "    c = 8\n",
    "    w = c * s\n",
    "    h = c * s\n",
    "    oq = s / 4\n",
    "    oh = s / 2\n",
    "\n",
    "    global queC\n",
    "\n",
    "    queF = fps * queS\n",
    "    queC = 0\n",
    "\n",
    "    if rl:\n",
    "        w += s * 8\n",
    "\n",
    "    ds = pygame.display.set_mode((w, h))\n",
    "    clock = pygame.time.Clock()\n",
    "    logList = []\n",
    "    font = pygame.font.Font(pygame.font.get_default_font(), fs)\n",
    "    maxVal = 0\n",
    "    stepQ = []\n",
    "\n",
    "    def getMaxVal():\n",
    "        m = 0\n",
    "        for y in obs:\n",
    "            for x in y:\n",
    "                if x > m:\n",
    "                    m = x\n",
    "        return m\n",
    "\n",
    "    def getValIndex(val):\n",
    "        index = 0\n",
    "        for y in obs:\n",
    "            for x in y:\n",
    "                if x == val:\n",
    "                    return index\n",
    "                index += 1\n",
    "        return -1\n",
    "\n",
    "    def getValPos(val):\n",
    "        index = getValIndex(val)\n",
    "        log(index)\n",
    "        if index == -1:\n",
    "            return [-1, -1]\n",
    "        yP = index // c\n",
    "        xP = index - yP * c\n",
    "        log(\"xp: \" + str(xP) + \" yp:\" + str(yP))\n",
    "        return [xP, yP]\n",
    "\n",
    "    def orient(xP, yP, val):\n",
    "        pp = getValPos(val - 1)\n",
    "        pn = getValPos(val + 1)\n",
    "        isMax = val == maxVal\n",
    "        log(\"jsem blok: \" + str(val) + \" pp: \" + str(pp) + \" pn:\" + str(pn) + \" jsem posledni: \" + str(isMax))\n",
    "        if pp[0] == -1:\n",
    "            return False\n",
    "        if pp[0] - 1 == xP and pp[1] == yP:\n",
    "            if isMax:\n",
    "                drawTriangle(clrB, (xP + 1) * s, yP * s + oq, (xP + 1) * s, yP * s + oh + oq, xP * s, yP * s + oh)\n",
    "            else:\n",
    "                if pn[0] != -1:\n",
    "                    if pn[1] == yP + 1:\n",
    "                        drawRect(clrB, xP * s + oq, yP * s + oq, s - oq, oh)\n",
    "                        drawRect(clrB, xP * s + oq, yP * s + oq + oh, oh, oq)\n",
    "                        return True\n",
    "                    elif pn[1] == yP - 1:\n",
    "                        drawRect(clrB, xP * s + oq, yP * s + oq, s - oq, oh)\n",
    "                        drawRect(clrB, xP * s + oq, yP * s, oh, oq)\n",
    "                        return True\n",
    "                drawRect(clrB, xP * s, yP * s + oq, s, oh)\n",
    "            return True\n",
    "        if pp[0] + 1 == xP and pp[1] == yP:\n",
    "            if isMax:\n",
    "                drawTriangle(clrB, xP * s, yP * s + oq, xP * s, yP * s + oh + oq, (xP + 1) * s, yP * s + oh)\n",
    "            else:\n",
    "                if pn[0] != -1:\n",
    "                    if pn[1] == yP + 1:\n",
    "                        drawRect(clrB, xP * s, yP * s + oq, s - oq, oh)\n",
    "                        drawRect(clrB, xP * s + oq, yP * s + oq + oh, oh, oq)\n",
    "                        return True\n",
    "                    elif pn[1] == yP - 1:\n",
    "                        drawRect(clrB, xP * s, yP * s + oq, s - oq, oh)\n",
    "                        drawRect(clrB, xP * s + oq, yP * s, oh, oq)\n",
    "                        return True\n",
    "                drawRect(clrB, xP * s, yP * s + oq, s, oh)\n",
    "            return True\n",
    "        if pp[0]== xP and pp[1] - 1 == yP:\n",
    "            if isMax:\n",
    "                drawTriangle(clrB, xP * s + oq, (yP + 1) * s, xP * s + oh + oq, (yP + 1) * s, xP * s + oh, yP * s)\n",
    "            else:\n",
    "                if pn[0] != -1:\n",
    "                    if pn[0] == xP - 1:\n",
    "                        drawRect(clrB, xP * s + oq, yP * s + oq, oh, s - oq)\n",
    "                        drawRect(clrB, xP * s, yP * s + oq, oq, oh)\n",
    "                        return True\n",
    "                    elif pn[0] == xP + 1:\n",
    "                        drawRect(clrB, xP * s + oq, yP * s + oq, oh, s - oq)\n",
    "                        drawRect(clrB, xP * s + oh + oq, yP * s + oq, oq, oh)\n",
    "                        return True\n",
    "                drawRect(clrB, xP * s + oq, yP * s, oh, s)\n",
    "            return True\n",
    "        if pp[0]== xP and pp[1] + 1 == yP:\n",
    "            if isMax:\n",
    "                drawTriangle(clrB, xP * s + oq, yP * s, xP * s + oh + oq, yP * s, xP * s + oh, (yP + 1) * s)\n",
    "            else:\n",
    "                if pn[0] != -1:\n",
    "                    if pn[0] == xP - 1:\n",
    "                        drawRect(clrB, xP * s + oq, yP * s, oh, s - oq)\n",
    "                        drawRect(clrB, xP * s, yP * s + oq, oq, oh)\n",
    "                        return True\n",
    "                    elif pn[0] == xP + 1:\n",
    "                        drawRect(clrB, xP * s + oq, yP * s, oh, s - oq)\n",
    "                        drawRect(clrB, xP * s + oh + oq, yP * s + oq, oq, oh)\n",
    "                        return True\n",
    "                drawRect(clrB, xP * s + oq, yP * s, oh, s)\n",
    "            return True\n",
    "        return False\n",
    "\n",
    "    def cell(xP, yP, val):\n",
    "        if val == 0:\n",
    "            return\n",
    "        else:\n",
    "            clr = clrA\n",
    "            if val == -1:\n",
    "                drawCircle(clr, xP * s + oh, yP * s + oh, s)\n",
    "                return\n",
    "            if val == 1:\n",
    "                pn = getValPos(val + 1)\n",
    "                if pn[0] != -1:\n",
    "                    ppp = 0\n",
    "                    # if pn[0] == xP and pn[1] == yP - 1:\n",
    "                    #     drawPoly(clrA, [\n",
    "                    #         (xP * s + oq, (yP + 1) * s),\n",
    "                    #         (xP * s, yP * s + oh),\n",
    "                    #         (xP * s + oq, yP * s),\n",
    "                    #         (yP * s + oq + oh, yP * s),\n",
    "                    #         ((xP + 1) * s, yP * s + oh),\n",
    "                    #         (xP * s + oq + oh, (yP + 1) * s),\n",
    "                    #         (xP * s + oq, (yP + 1) * s)\n",
    "                    #     ])\n",
    "                    #     return\n",
    "                clr = clrH\n",
    "            elif val >= 2:\n",
    "                clr = clrB\n",
    "                t = orient(xP, yP, val)\n",
    "                if t:\n",
    "                    return\n",
    "            drawRect(clr, xP * s, yP * s, s, s)\n",
    "\n",
    "    def log(text, type = logTypes.Info):\n",
    "        global logList\n",
    "        logList.append([str(text), type])\n",
    "\n",
    "    def drawLine(c, x1, y1, x2, y2, w = 1):\n",
    "        pygame.draw.line(ds, c, (x1, y1), (x2, y2), w)\n",
    "\n",
    "    def drawPoly(c, vert):\n",
    "        pygame.draw.polygon(ds, c, vert)\n",
    "\n",
    "    def drawQuad(c, x1, y1, x2, y2, x3, y3, x4, y4):\n",
    "        pygame.draw.polygon(ds, c, [(x1, y1), (x2, y2), (x3, y3), (x4, y4)])\n",
    "\n",
    "    def drawTriangle(c, x1, y1, x2, y2, x3, y3):\n",
    "        pygame.draw.polygon(ds, c, [(x1, y1), (x2, y2), (x3, y3)])\n",
    "\n",
    "    def drawRect(c, x, y, w, h):\n",
    "        pygame.draw.rect(ds, c, pygame.Rect(x, y,  w,  h))\n",
    "\n",
    "    def drawRectExt(c, x, y, w, h, ow):\n",
    "        pygame.draw.rect(ds, c, pygame.Rect(x, y,  w,  h), ow)\n",
    "\n",
    "    def drawText(c, x, y, t):\n",
    "       ts = font.render(t, True, c)\n",
    "       ds.blit(ts, (x, y))\n",
    "\n",
    "    def drawCircle(c, x, y, r):\n",
    "        pygame.draw.circle(ds, c, (x, y), r / 2)\n",
    "\n",
    "    def renderLogList():\n",
    "        if not rl:\n",
    "            return\n",
    "        global logList\n",
    "        index = 0\n",
    "        for entry in logList:\n",
    "            c = clrF\n",
    "            if entry[1] == logTypes.Ok:\n",
    "                c = (0, 255, 0)\n",
    "            elif entry[1] == logTypes.Warn:\n",
    "                c = (255, 165, 0)\n",
    "            elif entry[1] == logTypes.Error:\n",
    "                c = (255, 0, 0)\n",
    "            drawText(c, w / 2 + 10, 10 + index * (fs + 4), entry[0])\n",
    "            index += 1\n",
    "        logList = []\n",
    "\n",
    "    def beforeRender():\n",
    "        global maxVal\n",
    "        global extStep\n",
    "\n",
    "        if extStep is not -2:\n",
    "            stepQ.append(extStep)\n",
    "            extStep = -2\n",
    "\n",
    "        maxVal = getMaxVal()\n",
    "\n",
    "    def clear():\n",
    "        drawRect(clrV, 0, 0, w, h)\n",
    "\n",
    "    def renderGrid():\n",
    "        index = 0\n",
    "        for _ in obs:\n",
    "            drawLine(clrG, index * s, 0, index * s, s * c)\n",
    "            drawLine(clrG, 0, index * s, s * c, index * s)\n",
    "            index += 1\n",
    "\n",
    "    def renderScore():\n",
    "        drawText(clrF, 6, 6, \"Skore: \" + str(score))\n",
    "\n",
    "    def input():\n",
    "        return\n",
    "\n",
    "    def handleQ():\n",
    "        global queC\n",
    "        if queC == 0:\n",
    "            if len(stepQ) > 0:\n",
    "                stepI = stepQ.pop()\n",
    "                log(\"Proveden pohyb: \" + str(stepI), logTypes.Ok)\n",
    "                step(stepI)\n",
    "                queC = queF\n",
    "        else:\n",
    "            queC -= 1\n",
    "\n",
    "    def render():\n",
    "\n",
    "        if im == inputModes.Hook:\n",
    "            handleQ()\n",
    "\n",
    "        beforeRender()\n",
    "        clear()\n",
    "\n",
    "        if rg:\n",
    "            renderGrid()\n",
    "\n",
    "        if rl:\n",
    "            drawRectExt(clrF, w / 2, 0, w / 2, h, 1)\n",
    "\n",
    "        xx = 0\n",
    "        yy = 0\n",
    "        for y in obs:\n",
    "            for x in y:\n",
    "                cell(xx, yy, x)\n",
    "                xx += 1\n",
    "            yy += 1\n",
    "            xx = 0\n",
    "        renderLogList()\n",
    "\n",
    "        if rs:\n",
    "            renderScore()\n",
    "\n",
    "    run = True\n",
    "    run = False\n",
    "    init()\n",
    "    while run:\n",
    "        clock.tick(fps)\n",
    "        for e in pygame.event.get():\n",
    "            if e.type == pygame.QUIT:\n",
    "                pygame.quit()\n",
    "                run = False\n",
    "            elif e.type == pygame.KEYDOWN:\n",
    "                if e.key == pygame.K_w:\n",
    "                    step(0)\n",
    "                elif e.key == pygame.K_d:\n",
    "                    step(1)\n",
    "                elif e.key == pygame.K_a:\n",
    "                    step(-1)\n",
    "        hook()\n",
    "        render()\n",
    "        pygame.display.update()\n"
   ],
   "metadata": {
    "collapsed": false,
    "pycharm": {
     "name": "#%%\n"
    }
   }
  },
  {
   "cell_type": "code",
   "execution_count": 9,
   "outputs": [],
   "source": [],
   "metadata": {
    "collapsed": false,
    "pycharm": {
     "name": "#%%\n"
    }
   }
  },
  {
   "cell_type": "markdown",
   "source": [
    "# INPUT"
   ],
   "metadata": {
    "collapsed": false,
    "pycharm": {
     "name": "#%% md\n"
    }
   }
  },
  {
   "cell_type": "markdown",
   "source": [
    "## Neural Net and Genetic algorithm"
   ],
   "metadata": {
    "collapsed": false,
    "pycharm": {
     "name": "#%% md\n"
    }
   }
  },
  {
   "cell_type": "code",
   "execution_count": 10,
   "outputs": [
    {
     "name": "stderr",
     "output_type": "stream",
     "text": [
      "2022-08-06 19:08:19.847769: I tensorflow/core/util/util.cc:169] oneDNN custom operations are on. You may see slightly different numerical results due to floating-point round-off errors from different computation orders. To turn them off, set the environment variable `TF_ENABLE_ONEDNN_OPTS=0`.\n",
      "2022-08-06 19:08:19.851310: W tensorflow/stream_executor/platform/default/dso_loader.cc:64] Could not load dynamic library 'libcudart.so.11.0'; dlerror: libcudart.so.11.0: cannot open shared object file: No such file or directory\n",
      "2022-08-06 19:08:19.851323: I tensorflow/stream_executor/cuda/cudart_stub.cc:29] Ignore above cudart dlerror if you do not have a GPU set up on your machine.\n"
     ]
    }
   ],
   "source": [
    "import numpy as np\n",
    "import tensorflow as tf\n",
    "from tensorflow.python.keras.layers import Dense\n",
    "from tensorflow.python.keras.models import Sequential\n",
    "from tensorflow.python.keras.optimizer_v2.adam import Adam"
   ],
   "metadata": {
    "collapsed": false,
    "pycharm": {
     "name": "#%%\n"
    }
   }
  },
  {
   "cell_type": "code",
   "execution_count": 11,
   "outputs": [],
   "source": [
    "# output layer\n",
    "actions = [-1, 0, 1]"
   ],
   "metadata": {
    "collapsed": false,
    "pycharm": {
     "name": "#%%\n"
    }
   }
  },
  {
   "cell_type": "code",
   "execution_count": 20,
   "outputs": [],
   "source": [
    "#input layer\n",
    "input_layer = np.zeros(6)\n",
    "\n",
    "def preprocess_state(): # obs and look_dir could be parameters\n",
    "    # finding look_dir in order to know which objects are on our right etc.\n",
    "    head = None\n",
    "    global obs\n",
    "    neck = None\n",
    "    body = None\n",
    "    tail = None\n",
    "    for y in range(size):\n",
    "        for x in range(size):\n",
    "            if obs[y][x] == 1:\n",
    "                head = [y, x]\n",
    "                obs[y][x] += 1\n",
    "            elif obs[y][x] == 2:\n",
    "                neck = [y, x]\n",
    "                obs[y][x] += 1\n",
    "            elif obs[y][x] > 2:\n",
    "                body = [y, x]\n",
    "                obs[y][x] += 1\n",
    "            if obs[y][x] > tail_value:\n",
    "                tail = [y, x]\n",
    "                tail_value = obs[y][x]\n",
    "\n",
    "    y = head[0]-neck[0]\n",
    "    x = head[1]-neck[1]\n",
    "    look_dir = [y, x]\n",
    "\n",
    "    look_dirs = [[0, -1], [-1, 0], [0, 1], [1, 0]]\n",
    "    look_dir_index = look_dirs.index(look_dir)\n",
    "    info_left = []\n",
    "    indices_left = [] #actually its positions\n",
    "    info_straight = []\n",
    "    indices_straight = []\n",
    "    info_right = []\n",
    "    indices_right = []\n",
    "\n",
    "\n",
    "    for ii in range(1, 4):\n",
    "        shift_left = look_dirs[look_dir_index-1]\n",
    "        pixel_left_y = head[0]+ii*(shift_left[0])\n",
    "        pixel_left_x = head[1]+ii*(shift_left[1])\n",
    "        if (pixel_left_x > size-1) or (pixel_left_y > size-1) or (pixel_left_x < 0) or (pixel_left_y < 0):      #if we can still move\n",
    "            info_left.append(-2)\n",
    "            indices_left.append(ii)\n",
    "            break\n",
    "        if obs[pixel_left_y][pixel_left_x] != 0:\n",
    "            info_left.append(obs[pixel_left_y][pixel_left_x])\n",
    "            indices_left.append(ii)\n",
    "\n",
    "    for ii in range(1, 4):\n",
    "        shift_straight = look_dirs[look_dir_index]\n",
    "        pixel_straight_y = head[0]+ii*(shift_straight[0])\n",
    "        pixel_straight_x = head[1]+ii*(shift_straight[1])\n",
    "        if (pixel_straight_x > size-1) or (pixel_straight_y > size-1) or (pixel_straight_x < 0) or (pixel_straight_y < 0):      #if we can still move\n",
    "            info_straight.append(-2)\n",
    "            indices_straight.append(ii)\n",
    "            break\n",
    "        if obs[pixel_straight_y][pixel_straight_x] != 0:\n",
    "            info_straight.append(obs[pixel_straight_y][pixel_straight_x])\n",
    "            indices_straight.append(ii)\n",
    "\n",
    "    for ii in range(1, 4):\n",
    "        if look_dir_index == 3:\n",
    "            shift_right = look_dirs[0]\n",
    "        else:\n",
    "            shift_right = look_dirs[look_dir_index+1]\n",
    "        pixel_right_y = head[0]+ii*(shift_right[0])\n",
    "        pixel_right_x = head[1]+ii*(shift_right[1])\n",
    "        if (pixel_right_x > size-1) or (pixel_right_y > size-1) or (pixel_right_x < 0) or (pixel_right_y < 0):      #if we can still move\n",
    "            info_right.append(-2)\n",
    "            indices_right.append(ii)\n",
    "            break\n",
    "        if obs[pixel_right_y][pixel_right_x] != 0:\n",
    "            info_right.append(obs[pixel_right_y][pixel_right_x])\n",
    "            indices_right.append(ii)\n",
    "\n",
    "    input_layer[0] = 1 if ((indices_left[0] == 1) and ((info_left[0] > 1 and info_left[0] != tail_value) or info_left[0] == -2)) else 0 # there is an obsticle on the left (distance 1)\n",
    "    input_layer[1] = 1 if ((indices_straight[0] == 1) and ((info_straight[0] > 1 and info_straight[0] != tail_value) or info_straight[0] == -2)) else 0\n",
    "    input_layer[2] = 1 if ((indices_right[0] == 1) and ((info_right[0] > 1 and info_right[0] != tail_value) or info_right[0] == -2)) else 0\n",
    "    input_layer[3] = 1 if (-1 in info_left) else 0 # food in range 3 to the right\n",
    "    input_layer[4] = 1 if (-1 in info_straight) else 0\n",
    "    input_layer[5] = 1 if (-1 in info_right) else 0\n",
    "\n",
    "    return input_layer"
   ],
   "metadata": {
    "collapsed": false,
    "pycharm": {
     "name": "#%%\n"
    }
   }
  },
  {
   "cell_type": "code",
   "execution_count": 21,
   "outputs": [],
   "source": [
    "def onehot_encode(index, length):\n",
    "    a = np.zeros((length,), dtype=np.uint8)\n",
    "    a[index] = 1\n",
    "    return a"
   ],
   "metadata": {
    "collapsed": false,
    "pycharm": {
     "name": "#%%\n"
    }
   }
  },
  {
   "cell_type": "code",
   "execution_count": 16,
   "outputs": [],
   "source": [
    "\n"
   ],
   "metadata": {
    "collapsed": false,
    "pycharm": {
     "name": "#%%\n"
    }
   }
  },
  {
   "cell_type": "code",
   "execution_count": null,
   "outputs": [],
   "source": [],
   "metadata": {
    "collapsed": false,
    "pycharm": {
     "name": "#%%\n"
    }
   }
  },
  {
   "cell_type": "code",
   "execution_count": null,
   "outputs": [],
   "source": [],
   "metadata": {
    "collapsed": false,
    "pycharm": {
     "name": "#%%\n"
    }
   }
  },
  {
   "cell_type": "code",
   "execution_count": null,
   "outputs": [],
   "source": [],
   "metadata": {
    "collapsed": false,
    "pycharm": {
     "name": "#%%\n"
    }
   }
  },
  {
   "cell_type": "code",
   "execution_count": null,
   "outputs": [],
   "source": [],
   "metadata": {
    "collapsed": false,
    "pycharm": {
     "name": "#%%\n"
    }
   }
  },
  {
   "cell_type": "code",
   "execution_count": null,
   "outputs": [],
   "source": [],
   "metadata": {
    "collapsed": false,
    "pycharm": {
     "name": "#%%\n"
    }
   }
  },
  {
   "cell_type": "code",
   "execution_count": null,
   "outputs": [],
   "source": [],
   "metadata": {
    "collapsed": false,
    "pycharm": {
     "name": "#%%\n"
    }
   }
  },
  {
   "cell_type": "code",
   "execution_count": null,
   "outputs": [],
   "source": [],
   "metadata": {
    "collapsed": false,
    "pycharm": {
     "name": "#%%\n"
    }
   }
  },
  {
   "cell_type": "code",
   "execution_count": null,
   "outputs": [],
   "source": [],
   "metadata": {
    "collapsed": false,
    "pycharm": {
     "name": "#%%\n"
    }
   }
  },
  {
   "cell_type": "code",
   "execution_count": null,
   "outputs": [],
   "source": [],
   "metadata": {
    "collapsed": false,
    "pycharm": {
     "name": "#%%\n"
    }
   }
  },
  {
   "cell_type": "code",
   "execution_count": null,
   "outputs": [],
   "source": [],
   "metadata": {
    "collapsed": false,
    "pycharm": {
     "name": "#%%\n"
    }
   }
  },
  {
   "cell_type": "code",
   "execution_count": null,
   "outputs": [],
   "source": [],
   "metadata": {
    "collapsed": false,
    "pycharm": {
     "name": "#%%\n"
    }
   }
  },
  {
   "cell_type": "code",
   "execution_count": null,
   "outputs": [],
   "source": [],
   "metadata": {
    "collapsed": false,
    "pycharm": {
     "name": "#%%\n"
    }
   }
  },
  {
   "cell_type": "code",
   "execution_count": null,
   "outputs": [],
   "source": [],
   "metadata": {
    "collapsed": false,
    "pycharm": {
     "name": "#%%\n"
    }
   }
  },
  {
   "cell_type": "code",
   "execution_count": null,
   "outputs": [],
   "source": [],
   "metadata": {
    "collapsed": false,
    "pycharm": {
     "name": "#%%\n"
    }
   }
  },
  {
   "cell_type": "code",
   "execution_count": null,
   "outputs": [],
   "source": [],
   "metadata": {
    "collapsed": false,
    "pycharm": {
     "name": "#%%\n"
    }
   }
  },
  {
   "cell_type": "code",
   "execution_count": null,
   "outputs": [],
   "source": [],
   "metadata": {
    "collapsed": false,
    "pycharm": {
     "name": "#%%\n"
    }
   }
  },
  {
   "cell_type": "code",
   "execution_count": null,
   "outputs": [],
   "source": [],
   "metadata": {
    "collapsed": false,
    "pycharm": {
     "name": "#%%\n"
    }
   }
  },
  {
   "cell_type": "code",
   "execution_count": null,
   "outputs": [],
   "source": [],
   "metadata": {
    "collapsed": false,
    "pycharm": {
     "name": "#%%\n"
    }
   }
  },
  {
   "cell_type": "code",
   "execution_count": null,
   "outputs": [],
   "source": [],
   "metadata": {
    "collapsed": false,
    "pycharm": {
     "name": "#%%\n"
    }
   }
  },
  {
   "cell_type": "code",
   "execution_count": null,
   "outputs": [],
   "source": [],
   "metadata": {
    "collapsed": false,
    "pycharm": {
     "name": "#%%\n"
    }
   }
  },
  {
   "cell_type": "code",
   "execution_count": null,
   "outputs": [],
   "source": [],
   "metadata": {
    "collapsed": false,
    "pycharm": {
     "name": "#%%\n"
    }
   }
  },
  {
   "cell_type": "code",
   "execution_count": null,
   "outputs": [],
   "source": [],
   "metadata": {
    "collapsed": false,
    "pycharm": {
     "name": "#%%\n"
    }
   }
  },
  {
   "cell_type": "code",
   "execution_count": null,
   "outputs": [],
   "source": [],
   "metadata": {
    "collapsed": false,
    "pycharm": {
     "name": "#%%\n"
    }
   }
  },
  {
   "cell_type": "code",
   "execution_count": null,
   "outputs": [],
   "source": [],
   "metadata": {
    "collapsed": false,
    "pycharm": {
     "name": "#%%\n"
    }
   }
  },
  {
   "cell_type": "code",
   "execution_count": null,
   "outputs": [],
   "source": [],
   "metadata": {
    "collapsed": false,
    "pycharm": {
     "name": "#%%\n"
    }
   }
  },
  {
   "cell_type": "code",
   "execution_count": null,
   "outputs": [],
   "source": [],
   "metadata": {
    "collapsed": false,
    "pycharm": {
     "name": "#%%\n"
    }
   }
  },
  {
   "cell_type": "code",
   "execution_count": null,
   "outputs": [],
   "source": [],
   "metadata": {
    "collapsed": false,
    "pycharm": {
     "name": "#%%\n"
    }
   }
  },
  {
   "cell_type": "code",
   "execution_count": null,
   "outputs": [],
   "source": [],
   "metadata": {
    "collapsed": false,
    "pycharm": {
     "name": "#%%\n"
    }
   }
  },
  {
   "cell_type": "code",
   "execution_count": null,
   "outputs": [],
   "source": [],
   "metadata": {
    "collapsed": false,
    "pycharm": {
     "name": "#%%\n"
    }
   }
  },
  {
   "cell_type": "code",
   "execution_count": null,
   "outputs": [],
   "source": [],
   "metadata": {
    "collapsed": false,
    "pycharm": {
     "name": "#%%\n"
    }
   }
  },
  {
   "cell_type": "code",
   "execution_count": null,
   "outputs": [],
   "source": [],
   "metadata": {
    "collapsed": false,
    "pycharm": {
     "name": "#%%\n"
    }
   }
  },
  {
   "cell_type": "code",
   "execution_count": null,
   "outputs": [],
   "source": [],
   "metadata": {
    "collapsed": false,
    "pycharm": {
     "name": "#%%\n"
    }
   }
  },
  {
   "cell_type": "code",
   "execution_count": null,
   "outputs": [],
   "source": [],
   "metadata": {
    "collapsed": false,
    "pycharm": {
     "name": "#%%\n"
    }
   }
  },
  {
   "cell_type": "code",
   "execution_count": null,
   "outputs": [],
   "source": [],
   "metadata": {
    "collapsed": false,
    "pycharm": {
     "name": "#%%\n"
    }
   }
  },
  {
   "cell_type": "code",
   "execution_count": null,
   "outputs": [],
   "source": [],
   "metadata": {
    "collapsed": false,
    "pycharm": {
     "name": "#%%\n"
    }
   }
  },
  {
   "cell_type": "code",
   "execution_count": null,
   "outputs": [],
   "source": [],
   "metadata": {
    "collapsed": false,
    "pycharm": {
     "name": "#%%\n"
    }
   }
  },
  {
   "cell_type": "code",
   "execution_count": null,
   "outputs": [],
   "source": [],
   "metadata": {
    "collapsed": false,
    "pycharm": {
     "name": "#%%\n"
    }
   }
  },
  {
   "cell_type": "code",
   "execution_count": null,
   "outputs": [],
   "source": [],
   "metadata": {
    "collapsed": false,
    "pycharm": {
     "name": "#%%\n"
    }
   }
  }
 ],
 "metadata": {
  "kernelspec": {
   "display_name": "Python 3",
   "language": "python",
   "name": "python3"
  },
  "language_info": {
   "codemirror_mode": {
    "name": "ipython",
    "version": 2
   },
   "file_extension": ".py",
   "mimetype": "text/x-python",
   "name": "python",
   "nbconvert_exporter": "python",
   "pygments_lexer": "ipython2",
   "version": "2.7.6"
  }
 },
 "nbformat": 4,
 "nbformat_minor": 0
}