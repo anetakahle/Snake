{
 "cells": [
  {
   "cell_type": "code",
   "execution_count": 4,
   "metadata": {
    "collapsed": true,
    "pycharm": {
     "name": "#%%\n"
    }
   },
   "outputs": [],
   "source": [
    "import random\n",
    "import math\n",
    "import numpy as np\n",
    "from matplotlib import pyplot as plt\n",
    "from world import World\n",
    "\n",
    "w = World()"
   ]
  },
  {
   "cell_type": "code",
   "execution_count": 3,
   "outputs": [
    {
     "data": {
      "text/plain": "                |\n                |\n      ░░██      |\n                |\n                |\n        ◯◯      |\n                |\n                | score=0 ([-2], [3], [], [], [-1], [3])"
     },
     "execution_count": 3,
     "metadata": {},
     "output_type": "execute_result"
    }
   ],
   "source": [
    "w.step(1)\n",
    "w"
   ],
   "metadata": {
    "collapsed": false,
    "pycharm": {
     "name": "#%%\n"
    }
   }
  },
  {
   "cell_type": "code",
   "execution_count": null,
   "outputs": [],
   "source": [],
   "metadata": {
    "collapsed": false,
    "pycharm": {
     "name": "#%%\n"
    }
   }
  },
  {
   "cell_type": "markdown",
   "source": [
    "# Agent genetic"
   ],
   "metadata": {
    "collapsed": false,
    "pycharm": {
     "name": "#%% md\n"
    }
   }
  },
  {
   "cell_type": "code",
   "execution_count": null,
   "outputs": [],
   "source": [
    "import numpy as np\n",
    "#import tensorflow as tf\n",
    "#from tensorflow.python.keras.layers import Dense\n",
    "#from tensorflow.python.keras.models import Sequential\n",
    "#from tensorflow.python.keras.optimizer_v2.adam import Adam\n",
    "import sys\n",
    "import numpy as  np\n",
    "import matplotlib\n",
    "from . import serverConfig as sc, server as srvr, clientBase as cb, enums\n",
    "from modules.GeneticAI import Activation_ReLU as relu, Dense_Layer as denl\n",
    "import logging, sys\n",
    "\n",
    "class ClientGenetic(cb.ClientBase):\n",
    "\n",
    "    # properties ------------\n",
    "    server = object\n",
    "    inputLayer = np.zeros(1)\n",
    "\n",
    "    # ctor -----------\n",
    "\n",
    "    def init(self):\n",
    "        self.server = srvr.Server(sc.ServerConfig(enums.serverModes.Auto, 1, self.fpsCallback, self.newGameCallback, 10000))\n",
    "\n",
    "    # public ------------\n",
    "\n",
    "    def fpsCallback(self, movesRemaining):\n",
    "        print(movesRemaining)\n",
    "\n",
    "        return enums.directions.Skip\n",
    "\n",
    "    def newGameCallback(self, gamesRemaining):\n",
    "        pass\n",
    "\n",
    "    # private ------------\n",
    "\n",
    "    def preprocess_state(self):  # world and look_dir could be parameters\n",
    "        # finding look_dir in order to know which objects are on our right etc.\n",
    "        head = None\n",
    "        neck = None\n",
    "        body = None\n",
    "        tail = None\n",
    "        tail_value = 0\n",
    "        world = server.getGameState().world\n",
    "        size = server.getGameState().width\n",
    "        #for y in range(size):\n",
    "        #    for x in range(size):\n",
    "        #        if world[y][x] == 1:\n",
    "        #            head = [y, x]\n",
    "        #            world[y][x] += 1\n",
    "        #        elif world[y][x] == 2:\n",
    "        #            neck = [y, x]\n",
    "        #            world[y][x] += 1\n",
    "        #        elif world[y][x] > 2:\n",
    "        #            body = [y, x]\n",
    "        #            world[y][x] += 1\n",
    "        #        if world[y][x] > tail_value:\n",
    "        #            tail = [y, x]\n",
    "        #            tail_value = world[y][x]\n",
    "\n",
    "        y = head[0] - neck[0]\n",
    "        x = head[1] - neck[1]\n",
    "        look_dir = [y, x]\n",
    "\n",
    "        look_dirs = [[0, -1], [-1, 0], [0, 1], [1, 0]]\n",
    "        look_dir_index = look_dirs.index(look_dir)\n",
    "        info_left = []\n",
    "        indices_left = []  # actually its positions\n",
    "        info_straight = []\n",
    "        indices_straight = []\n",
    "        info_right = []\n",
    "        indices_right = []\n",
    "\n",
    "        for ii in range(1, 4):\n",
    "            shift_left = look_dirs[look_dir_index - 1]\n",
    "            pixel_left_y = head[0] + ii * (shift_left[0])\n",
    "            pixel_left_x = head[1] + ii * (shift_left[1])\n",
    "            if (pixel_left_x > size - 1) or (pixel_left_y > size - 1) or (pixel_left_x < 0) or (\n",
    "                    pixel_left_y < 0):  # if we can still move\n",
    "                info_left.append(-2)\n",
    "                indices_left.append(ii)\n",
    "                break\n",
    "            if world[pixel_left_y][pixel_left_x] != 0:\n",
    "                info_left.append(world[pixel_left_y][pixel_left_x])\n",
    "                indices_left.append(ii)\n",
    "\n",
    "        for ii in range(1, 4):\n",
    "            shift_straight = look_dirs[look_dir_index]\n",
    "            pixel_straight_y = head[0] + ii * (shift_straight[0])\n",
    "            pixel_straight_x = head[1] + ii * (shift_straight[1])\n",
    "            if (pixel_straight_x > size - 1) or (pixel_straight_y > size - 1) or (pixel_straight_x < 0) or (\n",
    "                    pixel_straight_y < 0):  # if we can still move\n",
    "                info_straight.append(-2)\n",
    "                indices_straight.append(ii)\n",
    "                break\n",
    "            if world[pixel_straight_y][pixel_straight_x] != 0:\n",
    "                info_straight.append(world[pixel_straight_y][pixel_straight_x])\n",
    "                indices_straight.append(ii)\n",
    "\n",
    "        for ii in range(1, 4):\n",
    "            if look_dir_index == 3:\n",
    "                shift_right = look_dirs[0]\n",
    "            else:\n",
    "                shift_right = look_dirs[look_dir_index + 1]\n",
    "            pixel_right_y = head[0] + ii * (shift_right[0])\n",
    "            pixel_right_x = head[1] + ii * (shift_right[1])\n",
    "            if (pixel_right_x > size - 1) or (pixel_right_y > size - 1) or (pixel_right_x < 0) or (\n",
    "                    pixel_right_y < 0):  # if we can still move\n",
    "                info_right.append(-2)\n",
    "                indices_right.append(ii)\n",
    "                break\n",
    "            if world[pixel_right_y][pixel_right_x] != 0:\n",
    "                info_right.append(world[pixel_right_y][pixel_right_x])\n",
    "                indices_right.append(ii)\n",
    "\n",
    "        if len(indices_left) != 0:\n",
    "            input_layer[0] = 1 if ((indices_left[0] == 1) and (\n",
    "                        (info_left[0] > 1 and info_left[0] != tail_value) or info_left[\n",
    "                    0] == -2)) else 0  # there is an obsticle on the left (distance 1)\n",
    "        if len(indices_straight) != 0:\n",
    "            input_layer[1] = 1 if ((indices_straight[0] == 1) and (\n",
    "                        (info_straight[0] > 1 and info_straight[0] != tail_value) or info_straight[0] == -2)) else 0\n",
    "        if len(indices_right) != 0:\n",
    "            input_layer[2] = 1 if ((indices_right[0] == 1) and (\n",
    "                        (info_right[0] > 1 and info_right[0] != tail_value) or info_right[0] == -2)) else 0\n",
    "        input_layer[3] = 1 if (-1 in info_left) else 0  # food in range 3 to the right\n",
    "        input_layer[4] = 1 if (-1 in info_straight) else 0\n",
    "        input_layer[5] = 1 if (-1 in info_right) else 0\n",
    "\n",
    "        return input_layer\n",
    "\n",
    "\n",
    "def onehot_encode(index, length):\n",
    "    a = np.zeros((length,), dtype=np.uint8)\n",
    "    a[index] = 1\n",
    "    return a\n",
    "\n",
    "\n",
    "\n",
    "X = preprocess_state(GameState.world) #instead of obs\n",
    "\n",
    "\n",
    "dense1 = denl.Layer_Dense(6, 5)\n",
    "\n",
    "activation1 = relu.Activation_ReLU()\n",
    "#print(activation1.output)\n",
    "\n",
    "dense1.forward(X)\n",
    "#print(dense1.output)\n",
    "\n",
    "activation1.forward(dense1.output)\n",
    "\n",
    "print(activation1.output[:5])\n",
    "\n",
    "\n",
    "\n",
    "#\n",
    "# layer2 = Layer_Dense(5, 3)\n",
    "#\n",
    "#\n",
    "# print(layer1)\n",
    "# layer2.forward(layer1.output)\n",
    "# print(layer2.output)\n",
    "\n",
    "\n",
    "# In[ ]:\n",
    "\n",
    "\n",
    "\n",
    "\n",
    "\n",
    "# In[ ]:\n",
    "\n",
    "\n",
    "#output 2. vrstvy\n",
    "#plan:\n",
    "#batches neresime, 2 dense layers, vahy random, aktivacni fce, input, output\n"
   ],
   "metadata": {
    "collapsed": false,
    "pycharm": {
     "name": "#%%\n"
    }
   }
  }
 ],
 "metadata": {
  "kernelspec": {
   "display_name": "Python 3",
   "language": "python",
   "name": "python3"
  },
  "language_info": {
   "codemirror_mode": {
    "name": "ipython",
    "version": 2
   },
   "file_extension": ".py",
   "mimetype": "text/x-python",
   "name": "python",
   "nbconvert_exporter": "python",
   "pygments_lexer": "ipython2",
   "version": "2.7.6"
  }
 },
 "nbformat": 4,
 "nbformat_minor": 0
}